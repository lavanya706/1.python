{
 "cells": [
  {
   "cell_type": "code",
   "execution_count": 2,
   "id": "8de2834c",
   "metadata": {},
   "outputs": [
    {
     "name": "stdout",
     "output_type": "stream",
     "text": [
      "value: 10\n",
      "correct\n"
     ]
    }
   ],
   "source": [
    "i=10\n",
    "if(i==10):\n",
    "    print(\"value:\",i)\n",
    "    print(\"correct\")"
   ]
  },
  {
   "cell_type": "code",
   "execution_count": 3,
   "id": "0371d868",
   "metadata": {},
   "outputs": [
    {
     "name": "stdout",
     "output_type": "stream",
     "text": [
      "Enter the password:HOPE@123\n",
      "your password is correct\n"
     ]
    }
   ],
   "source": [
    "x=\"HOPE@123\"\n",
    "password=input(\"Enter the password:\")\n",
    "if(x==password):\n",
    "    print(\"your password is correct\")\n",
    "else:\n",
    "    print(\"your password is incorrect\")"
   ]
  },
  {
   "cell_type": "code",
   "execution_count": 4,
   "id": "49db22d2",
   "metadata": {},
   "outputs": [
    {
     "name": "stdout",
     "output_type": "stream",
     "text": [
      "age:20\n",
      "Adult\n"
     ]
    }
   ],
   "source": [
    "age=int(input(\"age:\"))\n",
    "if(age<18):\n",
    "    print(\"children\")    \n",
    "elif(18<age<30):\n",
    "    print(\"Adult\")\n",
    "elif(30<age<50):\n",
    "    print(\"citizen\")\n",
    "else:\n",
    "    print(\"senior citizen\")\n",
    "    "
   ]
  },
  {
   "cell_type": "code",
   "execution_count": 5,
   "id": "ce4cb353",
   "metadata": {},
   "outputs": [
    {
     "name": "stdout",
     "output_type": "stream",
     "text": [
      "Enter any number:1\n",
      "No is Positive\n"
     ]
    }
   ],
   "source": [
    "x=int(input(\"Enter any number:\"))\n",
    "if(x<0):\n",
    "    print(\"No is Negative\")\n",
    "else:\n",
    "    print(\"No is Positive\")"
   ]
  },
  {
   "cell_type": "code",
   "execution_count": 6,
   "id": "02766b25",
   "metadata": {},
   "outputs": [
    {
     "name": "stdout",
     "output_type": "stream",
     "text": [
      "Enter a number to check:22\n",
      "No is not divisible by 5\n"
     ]
    }
   ],
   "source": [
    "x=int(input(\"Enter a number to check:\"))\n",
    "y=x/5\n",
    "if(y==0):\n",
    "    print(\"No is divisible by 5\")\n",
    "else:\n",
    "    print(\"No is not divisible by 5\")"
   ]
  },
  {
   "cell_type": "code",
   "execution_count": null,
   "id": "a39c79fb",
   "metadata": {},
   "outputs": [],
   "source": []
  }
 ],
 "metadata": {
  "kernelspec": {
   "display_name": "Python 3 (ipykernel)",
   "language": "python",
   "name": "python3"
  },
  "language_info": {
   "codemirror_mode": {
    "name": "ipython",
    "version": 3
   },
   "file_extension": ".py",
   "mimetype": "text/x-python",
   "name": "python",
   "nbconvert_exporter": "python",
   "pygments_lexer": "ipython3",
   "version": "3.11.5"
  }
 },
 "nbformat": 4,
 "nbformat_minor": 5
}
