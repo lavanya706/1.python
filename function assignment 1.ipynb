{
 "cells": [
  {
   "cell_type": "code",
   "execution_count": 3,
   "id": "e63d3ee8",
   "metadata": {},
   "outputs": [
    {
     "name": "stdout",
     "output_type": "stream",
     "text": [
      "sub-fields in AI are:\n",
      "Machine Learning\n",
      "Neural Networks\n",
      "Vision\n",
      "Robotics\n",
      "Speech Processing\n",
      "Natural Language Processing\n"
     ]
    }
   ],
   "source": [
    "def subfieldInAI_subfields():\n",
    "    print(\"sub-fields in AI are:\")\n",
    "    print(\"Machine Learning\")\n",
    "    print(\"Neural Networks\")\n",
    "    print(\"Vision\")\n",
    "    print(\"Robotics\")\n",
    "    print(\"Speech Processing\")\n",
    "    print(\"Natural Language Processing\")\n",
    "subfieldInAI_subfields()  "
   ]
  },
  {
   "cell_type": "code",
   "execution_count": 4,
   "id": "cdad9c2e",
   "metadata": {},
   "outputs": [
    {
     "name": "stdout",
     "output_type": "stream",
     "text": [
      "Enter a number:52452\n",
      "52452 is Even Number\n"
     ]
    }
   ],
   "source": [
    "def oddeven_oddeven(n):\n",
    "    if n%2==0:\n",
    "        print(n,\"is Even Number\")\n",
    "    else:\n",
    "        print(n,\"is odd Number\")\n",
    "n=int(input(\"Enter a number:\"))\n",
    "oddeven_oddeven(n)"
   ]
  },
  {
   "cell_type": "code",
   "execution_count": 8,
   "id": "486f25f6",
   "metadata": {},
   "outputs": [
    {
     "name": "stdout",
     "output_type": "stream",
     "text": [
      "Your Gender:male\n",
      "Your age:20\n",
      "NOT ELIGIBLE\n"
     ]
    }
   ],
   "source": [
    "def ElegibilityForMarriage_Elegible(gender,age):\n",
    "    if gender==\"male\":\n",
    "        if(age>21):\n",
    "            print(\"ELIGIBLE\")\n",
    "        else: \n",
    "            print(\"NOT ELIGIBLE\")\n",
    "    elif gender==\"female\":\n",
    "        if(age>18):\n",
    "            print(\"ELIGIBLE\")\n",
    "        else:\n",
    "            print(\"NOT ELIGIBLE\")\n",
    "    else:\n",
    "        print(\"INVALID GENDER\")\n",
    "gender=input(\"Your Gender:\")\n",
    "age=int(input(\"Your age:\"))\n",
    "ElegibilityForMarriage_Elegible(gender,age)\n",
    "            "
   ]
  },
  {
   "cell_type": "code",
   "execution_count": 15,
   "id": "0531a043",
   "metadata": {},
   "outputs": [
    {
     "name": "stdout",
     "output_type": "stream",
     "text": [
      "subject1=98\n",
      "subject2=87\n",
      "subject3=95\n",
      "subject4=95\n",
      "subject5=93\n",
      "Total: 468\n",
      "Percentage: 93.60000000000001\n"
     ]
    }
   ],
   "source": [
    "def FindPercent_percentage(a,b,c,d,e):\n",
    "    total=(a+b+c+d+e)\n",
    "    percentage=(total/500)*100\n",
    "    print(\"Total:\",total)\n",
    "    print(\"Percentage:\",percentage)\n",
    "\n",
    "\n",
    "a=int(input(\"subject1=\"))\n",
    "b=int(input(\"subject2=\"))\n",
    "c=int(input(\"subject3=\"))\n",
    "d=int(input(\"subject4=\"))\n",
    "e=int(input(\"subject5=\"))\n",
    "\n",
    "FindPercent_percentage(a,b,c,d,e)    \n",
    "    \n",
    "   "
   ]
  },
  {
   "cell_type": "code",
   "execution_count": 17,
   "id": "e48d8050",
   "metadata": {},
   "outputs": [
    {
     "name": "stdout",
     "output_type": "stream",
     "text": [
      "Height:32\n",
      "Breadth:34\n",
      "Area formula:(height*breadth)/2\n",
      "Area of Triangle: 544.0\n",
      "Height1:2\n",
      "Height2:4\n",
      "Breadth:4\n",
      "Perimeter formula:height1+height2+breadth\n",
      "Perimeter of triangle: 10\n"
     ]
    }
   ],
   "source": [
    "def triangle_triangle():\n",
    "   \n",
    "    height=int(input(\"Height:\"))\n",
    "    breadth=int(input(\"Breadth:\"))\n",
    "    print(\"Area formula:(height*breadth)/2\")\n",
    "    area=(height*breadth)/2\n",
    "    print(\"Area of Triangle:\",area)\n",
    "    height1=int(input(\"Height1:\"))\n",
    "    height2=int(input(\"Height2:\"))\n",
    "    height3=int(input(\"Breadth:\"))\n",
    "    print(\"Perimeter formula:height1+height2+breadth\")\n",
    "    perimeter=height1+height2+height3\n",
    "    print(\"Perimeter of triangle:\",perimeter)\n",
    "triangle_triangle()    "
   ]
  },
  {
   "cell_type": "code",
   "execution_count": null,
   "id": "3207d87c",
   "metadata": {},
   "outputs": [],
   "source": []
  }
 ],
 "metadata": {
  "kernelspec": {
   "display_name": "Python 3 (ipykernel)",
   "language": "python",
   "name": "python3"
  },
  "language_info": {
   "codemirror_mode": {
    "name": "ipython",
    "version": 3
   },
   "file_extension": ".py",
   "mimetype": "text/x-python",
   "name": "python",
   "nbconvert_exporter": "python",
   "pygments_lexer": "ipython3",
   "version": "3.11.5"
  }
 },
 "nbformat": 4,
 "nbformat_minor": 5
}
