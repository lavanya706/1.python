{
 "cells": [
  {
   "cell_type": "code",
   "execution_count": 2,
   "id": "efd2d5cf",
   "metadata": {},
   "outputs": [
    {
     "name": "stdout",
     "output_type": "stream",
     "text": [
      "Sub-fields in AI are:\n",
      "Machine Learning\n",
      "Neural Networks\n",
      "Vision\n",
      "Robotics\n",
      "Speech Processing\n",
      "Natural Language Processing\n"
     ]
    }
   ],
   "source": [
    "class Subfield:\n",
    "    def subfieldInAI_subfields(self):\n",
    "        subfields = [\n",
    "            \"Machine Learning\",\n",
    "            \"Neural Networks\",\n",
    "            \"Vision\",\n",
    "            \"Robotics\",\n",
    "            \"Speech Processing\",\n",
    "            \"Natural Language Processing\"\n",
    "        ]\n",
    "        \n",
    "        print(\"Sub-fields in AI are:\")\n",
    "        for subfield in subfields:\n",
    "            print(subfield)\n",
    "\n",
    "\n",
    "subfield_instance = Subfield()\n",
    "subfield_instance.subfieldInAI_subfields()"
   ]
  },
  {
   "cell_type": "code",
   "execution_count": 3,
   "id": "6131dac3",
   "metadata": {},
   "outputs": [
    {
     "name": "stdout",
     "output_type": "stream",
     "text": [
      "Enter a number:52452\n",
      "52452 is Even Number\n"
     ]
    }
   ],
   "source": [
    "class number:\n",
    "    def oddeven_oddeven(n):\n",
    "        if n%2==0:\n",
    "            print(n,\"is Even Number\")\n",
    "        else:\n",
    "            print(n,\"is odd Number\")\n",
    "n=int(input(\"Enter a number:\"))\n",
    "number.oddeven_oddeven(n)"
   ]
  },
  {
   "cell_type": "code",
   "execution_count": 7,
   "id": "7e381615",
   "metadata": {},
   "outputs": [
    {
     "name": "stdout",
     "output_type": "stream",
     "text": [
      "Your Gender: male\n",
      "Your age: 20\n",
      "NOT ELIGIBLE\n"
     ]
    }
   ],
   "source": [
    "class Eligibility:\n",
    "    def ElegibilityForMarriage_Elegible(self,gender,age):\n",
    "        if gender == \"male\":\n",
    "            if age > 21:\n",
    "                print(\"ELIGIBLE\")\n",
    "            else:\n",
    "                print(\"NOT ELIGIBLE\")\n",
    "        elif gender == \"female\":\n",
    "            if age > 18:\n",
    "                print(\"ELIGIBLE\")\n",
    "            else:\n",
    "                print(\"NOT ELIGIBLE\")\n",
    "        else:\n",
    "            print(\"INVALID GENDER\")\n",
    "\n",
    "\n",
    "gender = input(\"Your Gender: \")\n",
    "age = int(input(\"Your age: \"))\n",
    "\n",
    "\n",
    "eligibility_instance = Eligibility()\n",
    "eligibility_instance.ElegibilityForMarriage_Elegible(gender, age)\n"
   ]
  },
  {
   "cell_type": "code",
   "execution_count": 13,
   "id": "117356bb",
   "metadata": {},
   "outputs": [
    {
     "name": "stdout",
     "output_type": "stream",
     "text": [
      "subject1=98\n",
      "subject2=87\n",
      "subject3=95\n",
      "subject4=95\n",
      "subject5=93\n",
      "Total: 468\n",
      "Percentage: 93.60000000000001\n"
     ]
    }
   ],
   "source": [
    "class percent:\n",
    "     def FindPercent_percentage(a,b,c,d,e):\n",
    "        total=(a+b+c+d+e)\n",
    "        percentage=(total/500)*100\n",
    "        print(\"Total:\",total)\n",
    "        print(\"Percentage:\",percentage)\n",
    "\n",
    "\n",
    "a=int(input(\"subject1=\"))\n",
    "b=int(input(\"subject2=\"))\n",
    "c=int(input(\"subject3=\"))\n",
    "d=int(input(\"subject4=\"))\n",
    "e=int(input(\"subject5=\"))\n",
    "\n",
    "percent.FindPercent_percentage(a,b,c,d,e)   "
   ]
  },
  {
   "cell_type": "code",
   "execution_count": 14,
   "id": "9ccdfdb4",
   "metadata": {},
   "outputs": [
    {
     "name": "stdout",
     "output_type": "stream",
     "text": [
      "Height:32\n",
      "Breadth:34\n",
      "Area formula:(height*breadth)/2\n",
      "Area of Triangle: 544.0\n",
      "Height1:2\n",
      "Height2:4\n",
      "Breadth:4\n",
      "Perimeter formula:height1+height2+breadth\n",
      "Perimeter of triangle: 10\n"
     ]
    }
   ],
   "source": [
    "class area:\n",
    "    def triangle_triangle():\n",
    "   \n",
    "        height=int(input(\"Height:\"))\n",
    "        breadth=int(input(\"Breadth:\"))\n",
    "        print(\"Area formula:(height*breadth)/2\")\n",
    "        area=(height*breadth)/2\n",
    "        print(\"Area of Triangle:\",area)\n",
    "        height1=int(input(\"Height1:\"))\n",
    "        height2=int(input(\"Height2:\"))\n",
    "        height3=int(input(\"Breadth:\"))\n",
    "        print(\"Perimeter formula:height1+height2+breadth\")\n",
    "        perimeter=height1+height2+height3\n",
    "        print(\"Perimeter of triangle:\",perimeter)\n",
    "area.triangle_triangle()    "
   ]
  },
  {
   "cell_type": "code",
   "execution_count": null,
   "id": "2e48589f",
   "metadata": {},
   "outputs": [],
   "source": []
  }
 ],
 "metadata": {
  "kernelspec": {
   "display_name": "Python 3 (ipykernel)",
   "language": "python",
   "name": "python3"
  },
  "language_info": {
   "codemirror_mode": {
    "name": "ipython",
    "version": 3
   },
   "file_extension": ".py",
   "mimetype": "text/x-python",
   "name": "python",
   "nbconvert_exporter": "python",
   "pygments_lexer": "ipython3",
   "version": "3.11.5"
  }
 },
 "nbformat": 4,
 "nbformat_minor": 5
}
