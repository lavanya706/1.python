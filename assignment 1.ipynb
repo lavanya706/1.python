{
 "cells": [
  {
   "cell_type": "code",
   "execution_count": 1,
   "id": "c157a828",
   "metadata": {},
   "outputs": [
    {
     "name": "stdout",
     "output_type": "stream",
     "text": [
      "welcome to assignments\n"
     ]
    }
   ],
   "source": [
    "print(\"welcome to assignments\")"
   ]
  },
  {
   "cell_type": "code",
   "execution_count": 2,
   "id": "210c8a86",
   "metadata": {},
   "outputs": [
    {
     "name": "stdout",
     "output_type": "stream",
     "text": [
      "Num1=10\n",
      "Num2=30\n",
      "Add= 40\n"
     ]
    }
   ],
   "source": [
    "Num1=10\n",
    "Num2=30\n",
    "Add=Num1+Num2\n",
    "print(\"Num1=10\")\n",
    "print(\"Num2=30\")\n",
    "print(\"Add=\",Add)"
   ]
  },
  {
   "cell_type": "code",
   "execution_count": 3,
   "id": "2abc1f16",
   "metadata": {},
   "outputs": [
    {
     "name": "stdout",
     "output_type": "stream",
     "text": [
      "enter the BMI index:34\n",
      "very overweight\n"
     ]
    }
   ],
   "source": [
    "weight=int(input(\"enter the BMI index:\"))\n",
    "if weight < 18:\n",
    "    print(\"underweight\")\n",
    "elif 18 < weight <25:\n",
    "    print(\"normal weight\")\n",
    "elif 25 < weight < 30:\n",
    "    print(\"overweight\")\n",
    "else:    \n",
    "    print(\"very overweight\")"
   ]
  },
  {
   "cell_type": "code",
   "execution_count": null,
   "id": "2b87b749",
   "metadata": {},
   "outputs": [],
   "source": []
  }
 ],
 "metadata": {
  "kernelspec": {
   "display_name": "Python 3 (ipykernel)",
   "language": "python",
   "name": "python3"
  },
  "language_info": {
   "codemirror_mode": {
    "name": "ipython",
    "version": 3
   },
   "file_extension": ".py",
   "mimetype": "text/x-python",
   "name": "python",
   "nbconvert_exporter": "python",
   "pygments_lexer": "ipython3",
   "version": "3.11.5"
  }
 },
 "nbformat": 4,
 "nbformat_minor": 5
}
